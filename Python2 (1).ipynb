{
 "cells": [
  {
   "cell_type": "markdown",
   "id": "1dc4b7bb",
   "metadata": {},
   "source": [
    "# Problem Set 2\n"
   ]
  },
  {
   "cell_type": "markdown",
   "id": "8c652c6b",
   "metadata": {},
   "source": [
    "***"
   ]
  },
  {
   "cell_type": "markdown",
   "id": "3dcab1a4",
   "metadata": {},
   "source": [
    "# Question 1"
   ]
  },
  {
   "cell_type": "markdown",
   "id": "ab43d973",
   "metadata": {},
   "source": [
    "Consider the following Python module:<br>\n",
    "a = 0 <br>\n",
    "def b():<br>\n",
    "&emsp;global a<br>\n",
    "&emsp;a = c(a)<br>\n",
    "def c(a):<br>\n",
    "&emsp;return a + 2<br>\n",
    "\n",
    "After importing the module into the interpreter, you execute:<br>\n",
    "b()<br>\n",
    "b()<br>\n",
    "b()<br>\n",
    "a<br>\n",
    "\n",
    "What value is displayed when the last expression (a) is evaluated? Explain your Banswer by indicating what happens in every executed statement."
   ]
  },
  {
   "cell_type": "code",
   "execution_count": 11,
   "id": "ac39a5a0",
   "metadata": {},
   "outputs": [],
   "source": [
    "a = 0\n",
    "\n",
    "def b():\n",
    "    global a\n",
    "    a = c(a)\n",
    "\n",
    "def c(a):\n",
    "    return a + 2\n",
    "\n",
    "b()\n",
    "b()\n",
    "b()"
   ]
  },
  {
   "cell_type": "code",
   "execution_count": 12,
   "id": "2b9e1088",
   "metadata": {},
   "outputs": [
    {
     "name": "stdout",
     "output_type": "stream",
     "text": [
      "6\n"
     ]
    }
   ],
   "source": [
    "print(a)"
   ]
  },
  {
   "cell_type": "markdown",
   "id": "73e44135",
   "metadata": {},
   "source": [
    "When the last expression a is evaluated, the value displayed is 6.\n",
    "\n",
    "This is because when the module is imported, the variable a is initialized to 0. The function b() updates the value of a by calling the function c() with the current value of a as an argument. The function c() adds 2 to the value of a and returns the result.\n",
    "\n",
    "When b() is called for the first time, the global variable a is set to the value returned by c(a) which is 2. When b() is called for the second time, the value of a is now 2, and c(a) returns 4. When b() is called for the third time, the value of a is now 4, and c(a) returns 6.\n",
    "\n",
    "Finally, when a is evaluated, it returns the current value of the global variable a, which is 6."
   ]
  },
  {
   "cell_type": "markdown",
   "id": "5ef9e320",
   "metadata": {},
   "source": [
    "# Question 2"
   ]
  },
  {
   "cell_type": "markdown",
   "id": "eff84499",
   "metadata": {},
   "source": [
    "Function fileLength(), given to you, takes the name of a file as input and returns the length of the file:<br>\n",
    "fileLength('midterm.py') <br>\n",
    "284<br>\n",
    "fileLength('idterm.py') <br>\n",
    "Traceback (most recent call last):<br>\n",
    "File \"<pyshell#34>\", line 1, in <module> <br>\n",
    "fileLength('idterm.py')<br>\n",
    "File \"/Users/me/midterm.py\", line 3, in fileLength <br>\n",
    "infile = open(filename)<br>\n",
    "FileNotFoundError: [Errno 2] No such file or directory: <br>\n",
    "'idterm.py'<br>\n",
    "    \n",
    "As shown above, if the file cannot be found by the interpreter or if it cannot be read as a text file, an exception will be raised. Modify function fileLength() so that a friendly message is printed instead:<br>\n",
    "fileLength('midterm.py') <br>\n",
    "358<br>\n",
    "fileLength('idterm.py')<br>\n",
    "File idterm.py not found.<br>"
   ]
  },
  {
   "cell_type": "code",
   "execution_count": 19,
   "id": "1c81acf0",
   "metadata": {},
   "outputs": [],
   "source": [
    "def fileLength(filename):\n",
    "    try:\n",
    "        with open(filename, 'r') as file:\n",
    "            contents = file.read()\n",
    "            return len(contents)\n",
    "    except FileNotFoundError:\n",
    "        print(\"File\", filename, \"not found.\")"
   ]
  },
  {
   "cell_type": "code",
   "execution_count": 50,
   "id": "9a54a39a",
   "metadata": {},
   "outputs": [
    {
     "name": "stdout",
     "output_type": "stream",
     "text": [
      "File hello.py not found.\n"
     ]
    }
   ],
   "source": [
    "fileLength('hello.py')"
   ]
  },
  {
   "cell_type": "markdown",
   "id": "ba8dc1f3",
   "metadata": {},
   "source": [
    "# Question 3"
   ]
  },
  {
   "cell_type": "markdown",
   "id": "429a2420",
   "metadata": {},
   "source": [
    "Write a class named Marsupial that can be used as shown below:\n",
    "m = Marsupial()<br>\n",
    "m.put_in_pouch('doll')<br>\n",
    "m.put_in_pouch('firetruck')<br>\n",
    "m.put_in_pouch('kitten')<br>\n",
    " m.pouch_contents() <br>\n",
    "['doll', 'firetruck', 'kitten']<br>\n",
    "\n",
    "Now write a class named Kangaroo as a subclass of Marsupial that inherits all the attributes of Marsupial and also:<br>\n",
    "a. extends the Marsupial __init__ constructor to take, as input, thecoordinates x and y of the Kangaroo object,<br>\n",
    "b. supports method jump that takes number values dx and dy as input and movesthe kangaroo by dx units along the x-axis and by dy units along the y\u0002axis, and<br>\n",
    "c. overloads the __str__ operator so it behaves as shown below.<br>\n",
    "k = Kangaroo(0,0)<br>\n",
    "print(k)<br>\n",
    "I am a Kangaroo located at coordinates (0,0)<br>\n",
    "k.put_in_pouch('kitten')<br>\n",
    "k.pouch_contents() <br>\n",
    "['doll', 'firetruck', 'kitten']<br>\n",
    "k.jump(1,0)<br>\n",
    "k.jump(1,0)<br>\n",
    "k.jump(1,0)<br>\n",
    "print(k)<br>\n",
    "I am a Kangaroo located at coordinates (3,0)<br>"
   ]
  },
  {
   "cell_type": "code",
   "execution_count": 23,
   "id": "a408e0ef",
   "metadata": {},
   "outputs": [],
   "source": [
    "class Marsupial:\n",
    "    def __init__(self):\n",
    "        self.pouch = []\n",
    "\n",
    "    def put_in_pouch(self, item):\n",
    "        self.pouch.append(item)\n",
    "\n",
    "    def pouch_contents(self):\n",
    "        return self.pouch\n",
    "\n",
    "\n",
    "class Kangaroo(Marsupial):\n",
    "    def __init__(self, x=0, y=0):\n",
    "        super().__init__()\n",
    "        self.x = x\n",
    "        self.y = y\n",
    "\n",
    "    def jump(self, dx, dy):\n",
    "        self.x += dx\n",
    "        self.y += dy\n",
    "\n",
    "    def __str__(self):\n",
    "        return f\"I am a Kangaroo located at coordinates ({self.x},{self.y})\""
   ]
  },
  {
   "cell_type": "code",
   "execution_count": 49,
   "id": "1d5f72e5",
   "metadata": {},
   "outputs": [
    {
     "name": "stdout",
     "output_type": "stream",
     "text": [
      "['doll', 'firetruck', 'kitten']\n",
      "I am a Kangaroo located at coordinates (0,0)\n",
      "\n",
      "\n",
      "**The same functions defined in the Marsupial class are extended to the Kangaroo class**\n",
      "\n",
      "\n",
      "['doll', 'firetruck', 'kitten']\n",
      "I am a Kangaroo located at coordinates (3,0)\n"
     ]
    }
   ],
   "source": [
    "m = Marsupial()\n",
    "m.put_in_pouch('doll')\n",
    "m.put_in_pouch('firetruck')\n",
    "m.put_in_pouch('kitten')\n",
    "print(m.pouch_contents())  # Output of the content for the Marsupial class\n",
    "\n",
    "k = Kangaroo(0, 0)\n",
    "print(k)  \n",
    "\n",
    "print(\"\\n\")\n",
    "print(\"**The same functions defined in the Marsupial class are extended to the Kangaroo class**\")\n",
    "print(\"\\n\")\n",
    "\n",
    "k.put_in_pouch('doll')\n",
    "k.put_in_pouch('firetruck')\n",
    "k.put_in_pouch('kitten')\n",
    "print(k.pouch_contents())  # Output of the pouch content when the same class was extended to Kangaroo\n",
    "\n",
    "k.jump(1, 0)\n",
    "k.jump(1, 0)\n",
    "k.jump(1, 0)\n",
    "print(k)\n"
   ]
  },
  {
   "cell_type": "markdown",
   "id": "8754abb0",
   "metadata": {},
   "source": [
    "# Question 4"
   ]
  },
  {
   "cell_type": "markdown",
   "id": "eb78606f",
   "metadata": {},
   "source": [
    "Write function collatz() that takes a positive integer x as input and prints the ollatz sequence starting at x. A Collatz sequence is obtained by repeatedly applying this rule to the previous number x in the sequence:<br>\n",
    "x = {<br>\n",
    "𝑥/2 𝑖𝑓 𝑥 𝑖𝑠 𝑒𝑣𝑒𝑛<br>\n",
    "3𝑥+1 𝑖𝑓 𝑥 𝑖𝑠 𝑜𝑑𝑑 <br>}<br>\n",
    "Your function should stop when the sequence gets to number 1. Your implementation must be recursive, without any loops<br>\n",
    "->collatz(1) <br>\n",
    "1<br>\n",
    "->collatz(10) <br>\n",
    "10<br>\n",
    "5<br>\n",
    "16<br>\n",
    "8<br>\n",
    "4<br>\n",
    "2<br>\n",
    "1<br>\n",
    "Her<br>"
   ]
  },
  {
   "cell_type": "code",
   "execution_count": 62,
   "id": "6f0efb6a",
   "metadata": {},
   "outputs": [],
   "source": [
    "def collatz(x):\n",
    "    print(x)\n",
    "    if x == 1:\n",
    "        return\n",
    "    elif x % 2 == 0:\n",
    "        collatz(x // 2)\n",
    "    else:\n",
    "        collatz(3 * x + 1)"
   ]
  },
  {
   "cell_type": "code",
   "execution_count": 63,
   "id": "9871fcc5",
   "metadata": {},
   "outputs": [
    {
     "name": "stdout",
     "output_type": "stream",
     "text": [
      "1\n"
     ]
    }
   ],
   "source": [
    "collatz(1)"
   ]
  },
  {
   "cell_type": "code",
   "execution_count": 64,
   "id": "e27c3309",
   "metadata": {
    "scrolled": true
   },
   "outputs": [
    {
     "name": "stdout",
     "output_type": "stream",
     "text": [
      "10\n",
      "5\n",
      "16\n",
      "8\n",
      "4\n",
      "2\n",
      "1\n"
     ]
    }
   ],
   "source": [
    "collatz(10)"
   ]
  },
  {
   "cell_type": "markdown",
   "id": "627b0f85",
   "metadata": {},
   "source": [
    "# Question 5"
   ]
  },
  {
   "cell_type": "markdown",
   "id": "c4e162d1",
   "metadata": {},
   "source": [
    "Write a recursive method binary() that takes a non-negative integer n and prints the binary representation of integer n.<br>\n",
    "-> binary(0)<br>\n",
    "0<br>\n",
    "-> binary(1)<br>\n",
    "1<br>\n",
    "-> binary(3) <br>\n",
    "11<br>\n",
    "-> binary(9) <br>\n",
    "1001"
   ]
  },
  {
   "cell_type": "code",
   "execution_count": 33,
   "id": "117453d3",
   "metadata": {},
   "outputs": [],
   "source": [
    "def binary(n):\n",
    "    if n == 0:\n",
    "        return \"0\"\n",
    "    elif n == 1:\n",
    "        return \"1\"\n",
    "    else:\n",
    "        return binary(n // 2) + str(n % 2)"
   ]
  },
  {
   "cell_type": "code",
   "execution_count": 38,
   "id": "166ecfb8",
   "metadata": {},
   "outputs": [
    {
     "data": {
      "text/plain": [
       "'0'"
      ]
     },
     "execution_count": 38,
     "metadata": {},
     "output_type": "execute_result"
    }
   ],
   "source": [
    "binary(0)"
   ]
  },
  {
   "cell_type": "code",
   "execution_count": 35,
   "id": "5f44aef5",
   "metadata": {},
   "outputs": [
    {
     "data": {
      "text/plain": [
       "'1'"
      ]
     },
     "execution_count": 35,
     "metadata": {},
     "output_type": "execute_result"
    }
   ],
   "source": [
    "binary(1)"
   ]
  },
  {
   "cell_type": "code",
   "execution_count": 36,
   "id": "bb8e051c",
   "metadata": {},
   "outputs": [
    {
     "data": {
      "text/plain": [
       "'11'"
      ]
     },
     "execution_count": 36,
     "metadata": {},
     "output_type": "execute_result"
    }
   ],
   "source": [
    "binary(3)"
   ]
  },
  {
   "cell_type": "code",
   "execution_count": 37,
   "id": "864572ea",
   "metadata": {},
   "outputs": [
    {
     "data": {
      "text/plain": [
       "'1001'"
      ]
     },
     "execution_count": 37,
     "metadata": {},
     "output_type": "execute_result"
    }
   ],
   "source": [
    "binary(9)"
   ]
  },
  {
   "cell_type": "markdown",
   "id": "6941b764",
   "metadata": {},
   "source": [
    "# Question 6"
   ]
  },
  {
   "cell_type": "markdown",
   "id": "76237fc9",
   "metadata": {},
   "source": [
    "Implement a class named HeadingParser that can be used to parse an HTML document, and retrieve and print all the headings in the document. You should implement your class as a subclass of HTMLParser, defined in Standard Library module html.parser. When fed a string containing HTML code, your class should print the headings, one per line and in the order in which they appear in the document. Each heading should be indented as follows: an h1 heading should have indentation 0, and h2 heading should have indentation 1, etc. Test your implementation using w3c.html.<br>\n",
    "\n",
    "infile = open('w3c.html')<br>\n",
    "content = infile.read()<br>\n",
    "infile.close()<br>\n",
    "hp = HeadingParser()<br>\n",
    "hp.feed(content) <br>\n",
    "W3C Mission <br>\n",
    "Principles<br>"
   ]
  },
  {
   "cell_type": "code",
   "execution_count": 70,
   "id": "fd7af4b7",
   "metadata": {},
   "outputs": [],
   "source": [
    "class HeadingParser(HTMLParser):\n",
    "    def __init__(self):\n",
    "        super().__init__()\n",
    "        self.heading_list = []\n",
    "        self.indent = 0\n",
    "\n",
    "    def handle_starttag(self, tag, attrs):\n",
    "        if tag.startswith('h') and tag[1:].isdigit():\n",
    "            self.indent = int(tag[1:]) - 1\n",
    "\n",
    "    def handle_data(self, data):\n",
    "        data = data.strip()\n",
    "        if data and self.indent == 0:\n",
    "            self.heading_list.append(data)\n",
    "\n",
    "    def print_headings(self):\n",
    "        for heading in self.heading_list:\n",
    "            print(heading)"
   ]
  },
  {
   "cell_type": "code",
   "execution_count": null,
   "id": "3df5e39f",
   "metadata": {},
   "outputs": [],
   "source": [
    "infile = open('ques6.html')\n",
    "content = infile.read()\n",
    "infile.close()\n",
    "\n",
    "hp = HeadingParser()\n",
    "hp.feed(content)\n",
    "hp.print_headings()"
   ]
  },
  {
   "cell_type": "markdown",
   "id": "9eb33060",
   "metadata": {},
   "source": [
    "# Question 7"
   ]
  },
  {
   "cell_type": "markdown",
   "id": "bf0ae122",
   "metadata": {},
   "source": [
    "Implement recursive function webdir() that takes as input: a URL (as a string) and non-negative integers depth and indent. Your function should visit every web \n",
    "page reachable from the starting URL web page in depth clicks or less, and print each web page's URL. As shown below, indentation, specified by indent, should \n",
    "be used to indicate the depth of a URL. <br>\n",
    "\n",
    "webdir('http://reed.cs.depaul.edu/lperkovic/csc242/test1.html', 2, 0) <br>\n",
    "http://reed.cs.depaul.edu/lperkovic/csc242/test1.html <br>\n",
    "http://reed.cs.depaul.edu/lperkovic/csc242/test2.html <br>\n",
    "http://reed.cs.depaul.edu/lperkovic/csc242/test4.html <br>\n",
    "http://reed.cs.depaul.edu/lperkovic/csc242/test3.html <br>\n",
    "http://reed.cs.depaul.edu/lperkovic/csc242/test4.html "
   ]
  },
  {
   "cell_type": "code",
   "execution_count": 79,
   "id": "b8820752",
   "metadata": {},
   "outputs": [],
   "source": [
    "import requests\n",
    "from bs4 import BeautifulSoup\n",
    "\n",
    "def webdir(url, depth, indent):\n",
    "    print(' ' * indent + url)\n",
    "   \n",
    "    if depth == 0:\n",
    "        return\n",
    "    \n",
    "    response = requests.get(url)\n",
    "    print(response.status_code)\n",
    "    \n",
    "    if response.status_code != 200:\n",
    "        return\n",
    "   \n",
    "    soup = BeautifulSoup(response.content, 'html.parser')\n",
    "    print(soup)\n",
    "    \n",
    "    links = soup.find_all('a')\n",
    "   \n",
    "    for link in links:\n",
    "        href = link.get('href')\n",
    "        if href.startswith('http'):\n",
    "            webdir(href, depth - 1, indent + 1)"
   ]
  },
  {
   "cell_type": "code",
   "execution_count": 80,
   "id": "a25cd309",
   "metadata": {},
   "outputs": [
    {
     "name": "stdout",
     "output_type": "stream",
     "text": [
      "http://reed.cs.depaul.edu/lperkovic/csc242/test1.html\n",
      "404\n"
     ]
    }
   ],
   "source": [
    "webdir('http://reed.cs.depaul.edu/lperkovic/csc242/test1.html', 2, 0)"
   ]
  },
  {
   "cell_type": "markdown",
   "id": "c36f7d08",
   "metadata": {},
   "source": [
    "# Question 8"
   ]
  },
  {
   "cell_type": "markdown",
   "id": "75c565b4",
   "metadata": {},
   "source": [
    "Write SQL queries on the below database table that return:<br>\n",
    "a) All the temperature data.<br>\n",
    "b) All the cities, but without repetition.<br>\n",
    "c) All the records for India.<br>\n",
    "d) All the Fall records<br>\n",
    "e) The city, country, and season for which the average rainfall is between 200 and 400 millimeters.<br>\n",
    "f) The city and country for which the average Fall temperature is above 20 degrees, in increasing temperature order.<br>\n",
    "g) The total annual rainfall for Cairo.<br>\n",
    "h) The total rainfall for each season.<br>"
   ]
  },
  {
   "cell_type": "code",
   "execution_count": 85,
   "id": "1063fa10",
   "metadata": {},
   "outputs": [],
   "source": [
    "import sqlite3"
   ]
  },
  {
   "cell_type": "code",
   "execution_count": 86,
   "id": "b96a0f1b",
   "metadata": {},
   "outputs": [],
   "source": [
    "conn = sqlite3.connect('test.db')"
   ]
  },
  {
   "cell_type": "code",
   "execution_count": 87,
   "id": "7fe911e5",
   "metadata": {},
   "outputs": [
    {
     "data": {
      "text/plain": [
       "<sqlite3.Cursor at 0x1f3d7a8dc00>"
      ]
     },
     "execution_count": 87,
     "metadata": {},
     "output_type": "execute_result"
    }
   ],
   "source": [
    "conn.execute('''CREATE TABLE test(City text,Country text,Season text,Temperature integer,Rainfall integer);''')"
   ]
  },
  {
   "cell_type": "code",
   "execution_count": 88,
   "id": "9e0025eb",
   "metadata": {},
   "outputs": [
    {
     "data": {
      "text/plain": [
       "<sqlite3.Cursor at 0x1f3d7a8de30>"
      ]
     },
     "execution_count": 88,
     "metadata": {},
     "output_type": "execute_result"
    }
   ],
   "source": [
    "conn.execute(\"insert into test(City,Country,Season,Temperature,Rainfall) values('Mumbai','India','Winter',24.8,5.9);\")\n",
    "conn.execute(\"insert into test(City,Country,Season,Temperature,Rainfall) values('Mumbai','India','Spring',28.4,16.2);\")\n",
    "conn.execute(\"insert into test(City,Country,Season,Temperature,Rainfall) values('Mumbai','India','Summer',27.9,1549.4);\")\n",
    "conn.execute(\"insert into test(City,Country,Season,Temperature,Rainfall) values('Mumbai','India','Fall',27.6,346.0);\")\n",
    "conn.execute(\"insert into test(City,Country,Season,Temperature,Rainfall) values('London','United Kingdom','Winter',4.2,207.7);\")\n",
    "conn.execute(\"insert into test(City,Country,Season,Temperature,Rainfall) values('London','United Kingdom','Spring',8.3,169.6);\")\n",
    "conn.execute(\"insert into test(City,Country,Season,Temperature,Rainfall) values('London','United Kingdom','Summer',15.7,157.0);\")\n",
    "conn.execute(\"insert into test(City,Country,Season,Temperature,Rainfall) values('London','United Kingdom','Fall',10.4,218.5);\")\n",
    "conn.execute(\"insert into test(City,Country,Season,Temperature,Rainfall) values('Cairo','Egypt','Winter',13.6,16.5);\")\n",
    "conn.execute(\"insert into test(City,Country,Season,Temperature,Rainfall) values('Cairo','Egypt','Spring',20.7,6.5);\")\n",
    "conn.execute(\"insert into test(City,Country,Season,Temperature,Rainfall) values('Cairo','Egypt','Summer',27.7,0.1);\")\n",
    "conn.execute(\"insert into test(City,Country,Season,Temperature,Rainfall) values('Cairo','Egypt','Fall',22.2,4.5);\")"
   ]
  },
  {
   "cell_type": "code",
   "execution_count": 89,
   "id": "2d7290df",
   "metadata": {},
   "outputs": [
    {
     "data": {
      "text/plain": [
       "[('Mumbai', 'India', 'Winter', 24.8, 5.9),\n",
       " ('Mumbai', 'India', 'Spring', 28.4, 16.2),\n",
       " ('Mumbai', 'India', 'Summer', 27.9, 1549.4),\n",
       " ('Mumbai', 'India', 'Fall', 27.6, 346),\n",
       " ('London', 'United Kingdom', 'Winter', 4.2, 207.7),\n",
       " ('London', 'United Kingdom', 'Spring', 8.3, 169.6),\n",
       " ('London', 'United Kingdom', 'Summer', 15.7, 157),\n",
       " ('London', 'United Kingdom', 'Fall', 10.4, 218.5),\n",
       " ('Cairo', 'Egypt', 'Winter', 13.6, 16.5),\n",
       " ('Cairo', 'Egypt', 'Spring', 20.7, 6.5),\n",
       " ('Cairo', 'Egypt', 'Summer', 27.7, 0.1),\n",
       " ('Cairo', 'Egypt', 'Fall', 22.2, 4.5)]"
      ]
     },
     "execution_count": 89,
     "metadata": {},
     "output_type": "execute_result"
    }
   ],
   "source": [
    "conn.execute(\"select * from test\").fetchall()"
   ]
  },
  {
   "cell_type": "code",
   "execution_count": 90,
   "id": "ba935c91",
   "metadata": {},
   "outputs": [
    {
     "data": {
      "text/plain": [
       "[(24.8,),\n",
       " (28.4,),\n",
       " (27.9,),\n",
       " (27.6,),\n",
       " (4.2,),\n",
       " (8.3,),\n",
       " (15.7,),\n",
       " (10.4,),\n",
       " (13.6,),\n",
       " (20.7,),\n",
       " (27.7,),\n",
       " (22.2,)]"
      ]
     },
     "execution_count": 90,
     "metadata": {},
     "output_type": "execute_result"
    }
   ],
   "source": [
    "conn.execute(\"select Temperature from test\").fetchall()"
   ]
  },
  {
   "cell_type": "code",
   "execution_count": 91,
   "id": "f6887b8f",
   "metadata": {},
   "outputs": [
    {
     "data": {
      "text/plain": [
       "[('Mumbai',), ('London',), ('Cairo',)]"
      ]
     },
     "execution_count": 91,
     "metadata": {},
     "output_type": "execute_result"
    }
   ],
   "source": [
    "conn.execute(\"select distinct City from test\").fetchall()"
   ]
  },
  {
   "cell_type": "code",
   "execution_count": 92,
   "id": "55ae9cee",
   "metadata": {},
   "outputs": [
    {
     "data": {
      "text/plain": [
       "[('Mumbai', 'India', 'Winter', 24.8, 5.9),\n",
       " ('Mumbai', 'India', 'Spring', 28.4, 16.2),\n",
       " ('Mumbai', 'India', 'Summer', 27.9, 1549.4),\n",
       " ('Mumbai', 'India', 'Fall', 27.6, 346)]"
      ]
     },
     "execution_count": 92,
     "metadata": {},
     "output_type": "execute_result"
    }
   ],
   "source": [
    "conn.execute(\"select * from test where Country = 'India'\").fetchall()"
   ]
  },
  {
   "cell_type": "code",
   "execution_count": 93,
   "id": "f7e32c91",
   "metadata": {},
   "outputs": [
    {
     "data": {
      "text/plain": [
       "[('Mumbai', 'India', 'Fall', 27.6, 346),\n",
       " ('London', 'United Kingdom', 'Fall', 10.4, 218.5),\n",
       " ('Cairo', 'Egypt', 'Fall', 22.2, 4.5)]"
      ]
     },
     "execution_count": 93,
     "metadata": {},
     "output_type": "execute_result"
    }
   ],
   "source": [
    "conn.execute(\"select * from test where Season = 'Fall'\").fetchall()"
   ]
  },
  {
   "cell_type": "code",
   "execution_count": 94,
   "id": "92b5a4da",
   "metadata": {},
   "outputs": [
    {
     "data": {
      "text/plain": [
       "[('London', 'United Kingdom', 'Fall'),\n",
       " ('London', 'United Kingdom', 'Winter'),\n",
       " ('Mumbai', 'India', 'Fall')]"
      ]
     },
     "execution_count": 94,
     "metadata": {},
     "output_type": "execute_result"
    }
   ],
   "source": [
    "conn.execute(\"select City,Country,Season from test group by City,Country,Season having AVG(Rainfall) between 200 and 400\").fetchall()"
   ]
  },
  {
   "cell_type": "code",
   "execution_count": 95,
   "id": "9eec9470",
   "metadata": {},
   "outputs": [
    {
     "data": {
      "text/plain": [
       "[('Cairo', 'Egypt'), ('Mumbai', 'India')]"
      ]
     },
     "execution_count": 95,
     "metadata": {},
     "output_type": "execute_result"
    }
   ],
   "source": [
    "conn.execute(\"select City,Country from test where Season ='Fall' group by City,Country having AVG(Temperature) > 20 order BY AVG(Temperature) ASC\").fetchall()"
   ]
  },
  {
   "cell_type": "code",
   "execution_count": 96,
   "id": "8fc0d474",
   "metadata": {},
   "outputs": [
    {
     "data": {
      "text/plain": [
       "[(27.6,)]"
      ]
     },
     "execution_count": 96,
     "metadata": {},
     "output_type": "execute_result"
    }
   ],
   "source": [
    "conn.execute(\"select sum(Rainfall) from test where City = 'Cairo'\").fetchall()"
   ]
  },
  {
   "cell_type": "code",
   "execution_count": 97,
   "id": "aaa24e70",
   "metadata": {},
   "outputs": [
    {
     "data": {
      "text/plain": [
       "[('Fall', 569.0),\n",
       " ('Spring', 192.29999999999998),\n",
       " ('Summer', 1706.5),\n",
       " ('Winter', 230.1)]"
      ]
     },
     "execution_count": 97,
     "metadata": {},
     "output_type": "execute_result"
    }
   ],
   "source": [
    "conn.execute(\"select Season, sum(Rainfall) from test group by Season\").fetchall()"
   ]
  },
  {
   "cell_type": "markdown",
   "id": "10538bcb",
   "metadata": {},
   "source": [
    "#  Question 9"
   ]
  },
  {
   "cell_type": "markdown",
   "id": "3b1038b2",
   "metadata": {},
   "source": [
    "Suppose list words is defined as follows:<br>\n",
    "words = ['The', 'quick', 'brown', 'fox', 'jumps', 'over', \n",
    "'the', 'lazy', 'dog']\n",
    "Write list comprehension expressions that use list words and generate the following \n",
    "lists:<br>\n",
    "a) ['THE', 'QUICK', 'BROWN', 'FOX', 'JUMPS', 'OVER', 'THE', \n",
    "'LAZY', 'DOG']<br>\n",
    "b) ['the', 'quick', 'brown', 'fox', 'jumps', 'over', 'the', \n",
    "'lazy', 'dog']<br>\n",
    "c) [3, 5, 5, 3, 5, 4, 3, 4, 3] (the list of lengths of words in list\n",
    "words).<br>\n",
    "d) [['THE', 'the', 3], ['QUICK', 'quick', 5], ['BROWN',\n",
    "'brown', 5], ['FOX', 'fox', 3], ['JUMPS', 'jumps', 5],\n",
    "['OVER', 'over', 4], ['THE', 'the', 3], ['LAZY', 'lazy',<br>\n",
    "4], ['DOG', 'dog', 3]] (the list containing a list for every word of list \n",
    "words, where each list contains the word in uppercase and lowercase and the \n",
    "length of the word.)<br>\n",
    "e) ['The', 'quick', 'brown', 'fox', 'jumps', 'over', 'the', \n",
    "'lazy', 'dog'] (the list of words in list words containing 4 or more \n",
    "characters.)\n"
   ]
  },
  {
   "cell_type": "code",
   "execution_count": 103,
   "id": "86e624ea",
   "metadata": {},
   "outputs": [
    {
     "name": "stdout",
     "output_type": "stream",
     "text": [
      "['THE', 'QUICK', 'BROWN', 'FOX', 'JUMPS', 'OVER', 'THE', 'LAZY', 'DOG']\n",
      "\n",
      "\n",
      "['the', 'quick', 'brown', 'fox', 'jumps', 'over', 'the', 'lazy', 'dog']\n",
      "\n",
      "\n",
      "[3, 5, 5, 3, 5, 4, 3, 4, 3]\n",
      "\n",
      "\n",
      "[['THE', 'the', 3], ['QUICK', 'quick', 5], ['BROWN', 'brown', 5], ['FOX', 'fox', 3], ['JUMPS', 'jumps', 5], ['OVER', 'over', 4], ['THE', 'the', 3], ['LAZY', 'lazy', 4], ['DOG', 'dog', 3]]\n",
      "\n",
      "\n",
      "['quick', 'brown', 'jumps', 'over', 'lazy']\n"
     ]
    }
   ],
   "source": [
    "words = ['The', 'quick', 'brown', 'fox', 'jumps', 'over', 'the', 'lazy', 'dog']\n",
    "words_upper = [word.upper() for word in words]\n",
    "print(words_upper)\n",
    "print('\\n')\n",
    "words_lower = [word.lower() for word in words]\n",
    "print(words_lower)\n",
    "print('\\n')\n",
    "word_lengths = [len(word) for word in words]\n",
    "print(word_lengths)\n",
    "print('\\n')\n",
    "words_list = [[word.upper(), word.lower(), len(word)] for word in words]\n",
    "print(words_list)\n",
    "print('\\n')\n",
    "words_length_4 = [word for word in words if len(word) >= 4]\n",
    "print(words_length_4)"
   ]
  },
  {
   "cell_type": "markdown",
   "id": "3822206d",
   "metadata": {},
   "source": []
  },
  {
   "cell_type": "markdown",
   "id": "59cba270",
   "metadata": {},
   "source": [
    "# SOURCES"
   ]
  },
  {
   "cell_type": "markdown",
   "id": "74bcb242",
   "metadata": {},
   "source": [
    "Following sources were used for the assignment:"
   ]
  },
  {
   "cell_type": "markdown",
   "id": "8771e5b9",
   "metadata": {},
   "source": [
    "https://learn.microsoft.com/en-us/sql/?view=sql-server-ver16\n",
    "https://docs.python.org/3/\n",
    "https://stackoverflow.com/questions/tagged/python"
   ]
  }
 ],
 "metadata": {
  "kernelspec": {
   "display_name": "Python 3 (ipykernel)",
   "language": "python",
   "name": "python3"
  },
  "language_info": {
   "codemirror_mode": {
    "name": "ipython",
    "version": 3
   },
   "file_extension": ".py",
   "mimetype": "text/x-python",
   "name": "python",
   "nbconvert_exporter": "python",
   "pygments_lexer": "ipython3",
   "version": "3.9.13"
  }
 },
 "nbformat": 4,
 "nbformat_minor": 5
}
